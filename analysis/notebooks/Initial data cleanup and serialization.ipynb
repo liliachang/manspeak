{
 "cells": [
  {
   "cell_type": "code",
   "execution_count": 50,
   "metadata": {},
   "outputs": [],
   "source": [
    "import sys\n",
    "from os import getcwd, path\n",
    "sys.path.append(path.dirname(getcwd()))\n",
    "\n",
    "import pandas as pd"
   ]
  },
  {
   "cell_type": "code",
   "execution_count": 51,
   "metadata": {
    "collapsed": true
   },
   "outputs": [],
   "source": [
    "from dateutil.parser import parse"
   ]
  },
  {
   "cell_type": "code",
   "execution_count": 52,
   "metadata": {
    "collapsed": true
   },
   "outputs": [],
   "source": [
    "DATA_DIR = \"../../data\""
   ]
  },
  {
   "cell_type": "code",
   "execution_count": 53,
   "metadata": {},
   "outputs": [],
   "source": [
    "data_filepath = path.join(DATA_DIR, \"accused_clean.csv\")\n",
    "\n",
    "with open(data_filepath, 'r') as f:\n",
    "    clean_data = f.read().replace('Õ', '\\'').replace('Ê', '').replace('Ô', '\\'')"
   ]
  },
  {
   "cell_type": "code",
   "execution_count": 54,
   "metadata": {
    "collapsed": true
   },
   "outputs": [],
   "source": [
    "clean_unicode_data_filepath = path.join(DATA_DIR, \"accused_cleanedup_unicode.csv\")\n",
    "\n",
    "with open(clean_unicode_data_filepath, 'w') as f:\n",
    "    f.write(clean_data)"
   ]
  },
  {
   "cell_type": "code",
   "execution_count": 55,
   "metadata": {},
   "outputs": [],
   "source": [
    "df = pd.read_csv(clean_unicode_data_filepath, \n",
    "                 infer_datetime_format=True, \n",
    "                parse_dates=True)"
   ]
  },
  {
   "cell_type": "code",
   "execution_count": 56,
   "metadata": {
    "scrolled": true
   },
   "outputs": [
    {
     "data": {
      "text/html": [
       "<div>\n",
       "<style>\n",
       "    .dataframe thead tr:only-child th {\n",
       "        text-align: right;\n",
       "    }\n",
       "\n",
       "    .dataframe thead th {\n",
       "        text-align: left;\n",
       "    }\n",
       "\n",
       "    .dataframe tbody tr th {\n",
       "        vertical-align: top;\n",
       "    }\n",
       "</style>\n",
       "<table border=\"1\" class=\"dataframe\">\n",
       "  <thead>\n",
       "    <tr style=\"text-align: right;\">\n",
       "      <th></th>\n",
       "      <th>last_name</th>\n",
       "      <th>first_name</th>\n",
       "      <th>date</th>\n",
       "      <th>title</th>\n",
       "      <th>accusation</th>\n",
       "      <th>response</th>\n",
       "      <th>fallout</th>\n",
       "    </tr>\n",
       "  </thead>\n",
       "  <tbody>\n",
       "    <tr>\n",
       "      <th>0</th>\n",
       "      <td>Weinstein</td>\n",
       "      <td>Harvey</td>\n",
       "      <td>10/5/17</td>\n",
       "      <td>Producer and co-founder of the Weinstein Company</td>\n",
       "      <td>Raping three women. Sexual assault and harassm...</td>\n",
       "      <td>I came of age in the 60's and 70's, when all t...</td>\n",
       "      <td>Fired</td>\n",
       "    </tr>\n",
       "    <tr>\n",
       "      <th>1</th>\n",
       "      <td>Savino</td>\n",
       "      <td>Chris</td>\n",
       "      <td>10/17/17</td>\n",
       "      <td>Creator and showrunner of \"The Loud House\"</td>\n",
       "      <td>Sexual harassment, including unwanted sexual a...</td>\n",
       "      <td>I am deeply sorry and ashamed. Although it was...</td>\n",
       "      <td>Fired</td>\n",
       "    </tr>\n",
       "    <tr>\n",
       "      <th>2</th>\n",
       "      <td>Scoble</td>\n",
       "      <td>Robert</td>\n",
       "      <td>10/19/17</td>\n",
       "      <td>Tech blogger and co-founder of the Transformat...</td>\n",
       "      <td>Sexual assault of at least two women.</td>\n",
       "      <td>In the past week several news outlets reported...</td>\n",
       "      <td>Resigned</td>\n",
       "    </tr>\n",
       "    <tr>\n",
       "      <th>3</th>\n",
       "      <td>Besh</td>\n",
       "      <td>John</td>\n",
       "      <td>10/21/17</td>\n",
       "      <td>Chief executive of the Besh Restaurant Group</td>\n",
       "      <td>Sexual harassment.</td>\n",
       "      <td>Two years ago, I deeply hurt those I love by t...</td>\n",
       "      <td>Resigned.</td>\n",
       "    </tr>\n",
       "    <tr>\n",
       "      <th>4</th>\n",
       "      <td>Toback</td>\n",
       "      <td>James</td>\n",
       "      <td>10/22/17</td>\n",
       "      <td>Director and writer</td>\n",
       "      <td>Sexual harassment and misconduct toward women</td>\n",
       "      <td>Lemme be really clear about this. I don't wan...</td>\n",
       "      <td>Dropped by agent.</td>\n",
       "    </tr>\n",
       "  </tbody>\n",
       "</table>\n",
       "</div>"
      ],
      "text/plain": [
       "   last_name first_name      date  \\\n",
       "0  Weinstein     Harvey   10/5/17   \n",
       "1     Savino      Chris  10/17/17   \n",
       "2     Scoble     Robert  10/19/17   \n",
       "3       Besh       John  10/21/17   \n",
       "4     Toback      James  10/22/17   \n",
       "\n",
       "                                               title  \\\n",
       "0   Producer and co-founder of the Weinstein Company   \n",
       "1         Creator and showrunner of \"The Loud House\"   \n",
       "2  Tech blogger and co-founder of the Transformat...   \n",
       "3       Chief executive of the Besh Restaurant Group   \n",
       "4                                Director and writer   \n",
       "\n",
       "                                          accusation  \\\n",
       "0  Raping three women. Sexual assault and harassm...   \n",
       "1  Sexual harassment, including unwanted sexual a...   \n",
       "2              Sexual assault of at least two women.   \n",
       "3                                 Sexual harassment.   \n",
       "4      Sexual harassment and misconduct toward women   \n",
       "\n",
       "                                            response            fallout  \n",
       "0  I came of age in the 60's and 70's, when all t...              Fired  \n",
       "1  I am deeply sorry and ashamed. Although it was...              Fired  \n",
       "2  In the past week several news outlets reported...           Resigned  \n",
       "3  Two years ago, I deeply hurt those I love by t...          Resigned.  \n",
       "4   Lemme be really clear about this. I don't wan...  Dropped by agent.  "
      ]
     },
     "execution_count": 56,
     "metadata": {},
     "output_type": "execute_result"
    }
   ],
   "source": [
    "df.head()"
   ]
  },
  {
   "cell_type": "code",
   "execution_count": 57,
   "metadata": {},
   "outputs": [],
   "source": [
    "## Change `date` from str to datetime object, and pickle the resulting DataFrame\n",
    "\n",
    "df['datetime'] = df.date.apply(lambda x: parse(x))\n",
    "del df['date']\n",
    "\n",
    "pickle_path = path.join(DATA_DIR, 'accused.pkl')\n",
    "df.to_pickle(pickle_path)"
   ]
  }
 ],
 "metadata": {
  "kernelspec": {
   "display_name": "Python 3",
   "language": "python",
   "name": "python3"
  },
  "language_info": {
   "codemirror_mode": {
    "name": "ipython",
    "version": 3
   },
   "file_extension": ".py",
   "mimetype": "text/x-python",
   "name": "python",
   "nbconvert_exporter": "python",
   "pygments_lexer": "ipython3",
   "version": "3.6.2"
  }
 },
 "nbformat": 4,
 "nbformat_minor": 2
}
