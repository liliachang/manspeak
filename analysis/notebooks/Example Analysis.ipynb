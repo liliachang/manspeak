{
 "cells": [
  {
   "cell_type": "code",
   "execution_count": 1,
   "metadata": {
    "collapsed": true
   },
   "outputs": [],
   "source": [
    "import sys\n",
    "from os import getcwd, path\n",
    "sys.path.append(path.dirname(getcwd()))\n",
    "\n",
    "import pandas as pd\n",
    "import pickle"
   ]
  },
  {
   "cell_type": "code",
   "execution_count": 13,
   "metadata": {
    "collapsed": true
   },
   "outputs": [],
   "source": [
    "import matplotlib.pyplot as plt\n",
    "import seaborn as sns"
   ]
  },
  {
   "cell_type": "code",
   "execution_count": 21,
   "metadata": {
    "collapsed": true
   },
   "outputs": [],
   "source": [
    "%matplotlib inline"
   ]
  },
  {
   "cell_type": "code",
   "execution_count": 3,
   "metadata": {
    "collapsed": true
   },
   "outputs": [],
   "source": [
    "DATA_DIR = \"../../data\"\n",
    "\n",
    "pickle_path = path.join(DATA_DIR, 'accused.pkl')"
   ]
  },
  {
   "cell_type": "code",
   "execution_count": 6,
   "metadata": {},
   "outputs": [
    {
     "data": {
      "text/html": [
       "<div>\n",
       "<style>\n",
       "    .dataframe thead tr:only-child th {\n",
       "        text-align: right;\n",
       "    }\n",
       "\n",
       "    .dataframe thead th {\n",
       "        text-align: left;\n",
       "    }\n",
       "\n",
       "    .dataframe tbody tr th {\n",
       "        vertical-align: top;\n",
       "    }\n",
       "</style>\n",
       "<table border=\"1\" class=\"dataframe\">\n",
       "  <thead>\n",
       "    <tr style=\"text-align: right;\">\n",
       "      <th></th>\n",
       "      <th>last_name</th>\n",
       "      <th>first_name</th>\n",
       "      <th>title</th>\n",
       "      <th>accusation</th>\n",
       "      <th>response</th>\n",
       "      <th>fallout</th>\n",
       "      <th>datetime</th>\n",
       "    </tr>\n",
       "  </thead>\n",
       "  <tbody>\n",
       "    <tr>\n",
       "      <th>0</th>\n",
       "      <td>Weinstein</td>\n",
       "      <td>Harvey</td>\n",
       "      <td>Producer and co-founder of the Weinstein Company</td>\n",
       "      <td>Raping three women. Sexual assault and harassm...</td>\n",
       "      <td>I came of age in the 60's and 70's, when all t...</td>\n",
       "      <td>Fired</td>\n",
       "      <td>2017-10-05</td>\n",
       "    </tr>\n",
       "    <tr>\n",
       "      <th>1</th>\n",
       "      <td>Savino</td>\n",
       "      <td>Chris</td>\n",
       "      <td>Creator and showrunner of \"The Loud House\"</td>\n",
       "      <td>Sexual harassment, including unwanted sexual a...</td>\n",
       "      <td>I am deeply sorry and ashamed. Although it was...</td>\n",
       "      <td>Fired</td>\n",
       "      <td>2017-10-17</td>\n",
       "    </tr>\n",
       "    <tr>\n",
       "      <th>2</th>\n",
       "      <td>Scoble</td>\n",
       "      <td>Robert</td>\n",
       "      <td>Tech blogger and co-founder of the Transformat...</td>\n",
       "      <td>Sexual assault of at least two women.</td>\n",
       "      <td>In the past week several news outlets reported...</td>\n",
       "      <td>Resigned</td>\n",
       "      <td>2017-10-19</td>\n",
       "    </tr>\n",
       "    <tr>\n",
       "      <th>3</th>\n",
       "      <td>Besh</td>\n",
       "      <td>John</td>\n",
       "      <td>Chief executive of the Besh Restaurant Group</td>\n",
       "      <td>Sexual harassment.</td>\n",
       "      <td>Two years ago, I deeply hurt those I love by t...</td>\n",
       "      <td>Resigned.</td>\n",
       "      <td>2017-10-21</td>\n",
       "    </tr>\n",
       "    <tr>\n",
       "      <th>4</th>\n",
       "      <td>Toback</td>\n",
       "      <td>James</td>\n",
       "      <td>Director and writer</td>\n",
       "      <td>Sexual harassment and misconduct toward women</td>\n",
       "      <td>Lemme be really clear about this. I don't wan...</td>\n",
       "      <td>Dropped by agent.</td>\n",
       "      <td>2017-10-22</td>\n",
       "    </tr>\n",
       "  </tbody>\n",
       "</table>\n",
       "</div>"
      ],
      "text/plain": [
       "   last_name first_name                                              title  \\\n",
       "0  Weinstein     Harvey   Producer and co-founder of the Weinstein Company   \n",
       "1     Savino      Chris         Creator and showrunner of \"The Loud House\"   \n",
       "2     Scoble     Robert  Tech blogger and co-founder of the Transformat...   \n",
       "3       Besh       John       Chief executive of the Besh Restaurant Group   \n",
       "4     Toback      James                                Director and writer   \n",
       "\n",
       "                                          accusation  \\\n",
       "0  Raping three women. Sexual assault and harassm...   \n",
       "1  Sexual harassment, including unwanted sexual a...   \n",
       "2              Sexual assault of at least two women.   \n",
       "3                                 Sexual harassment.   \n",
       "4      Sexual harassment and misconduct toward women   \n",
       "\n",
       "                                            response            fallout  \\\n",
       "0  I came of age in the 60's and 70's, when all t...              Fired   \n",
       "1  I am deeply sorry and ashamed. Although it was...              Fired   \n",
       "2  In the past week several news outlets reported...           Resigned   \n",
       "3  Two years ago, I deeply hurt those I love by t...          Resigned.   \n",
       "4   Lemme be really clear about this. I don't wan...  Dropped by agent.   \n",
       "\n",
       "    datetime  \n",
       "0 2017-10-05  \n",
       "1 2017-10-17  \n",
       "2 2017-10-19  \n",
       "3 2017-10-21  \n",
       "4 2017-10-22  "
      ]
     },
     "execution_count": 6,
     "metadata": {},
     "output_type": "execute_result"
    }
   ],
   "source": [
    "df = pd.read_pickle(pickle_path)\n",
    "df.head()"
   ]
  },
  {
   "cell_type": "code",
   "execution_count": 10,
   "metadata": {},
   "outputs": [],
   "source": [
    "df.fillna(value=\"\", inplace=True)"
   ]
  },
  {
   "cell_type": "code",
   "execution_count": 11,
   "metadata": {},
   "outputs": [],
   "source": [
    "df['accusation_wordcount'] = df.accusation.apply(lambda x: len(x.split()))\n",
    "df['response_wordcount'] = df.response.apply(lambda x: len(x.split()))"
   ]
  },
  {
   "cell_type": "code",
   "execution_count": 22,
   "metadata": {},
   "outputs": [
    {
     "data": {
      "text/plain": [
       "[<matplotlib.lines.Line2D at 0x11dcb9f98>]"
      ]
     },
     "execution_count": 22,
     "metadata": {},
     "output_type": "execute_result"
    },
    {
     "data": {
      "image/png": "[encoded data removed]",
      "text/plain": [
       "<matplotlib.figure.Figure at 0x11dc34160>"
      ]
     },
     "metadata": {},
     "output_type": "display_data"
    }
   ],
   "source": [
    "plt.plot_date(x=df.datetime, \n",
    "           y=df['response_wordcount'])"
   ]
  },
  {
   "cell_type": "code",
   "execution_count": 23,
   "metadata": {},
   "outputs": [
    {
     "data": {
      "text/plain": [
       "[<matplotlib.lines.Line2D at 0x11dd02898>]"
      ]
     },
     "execution_count": 23,
     "metadata": {},
     "output_type": "execute_result"
    },
    {
     "data": {
      "image/png": "[encoded data removed]",
      "text/plain": [
       "<matplotlib.figure.Figure at 0x11dd6b278>"
      ]
     },
     "metadata": {},
     "output_type": "display_data"
    }
   ],
   "source": [
    "plt.plot_date(x=df.datetime, \n",
    "           y=df['accusation_wordcount'])"
   ]
  }
 ],
 "metadata": {
  "kernelspec": {
   "display_name": "Python 3",
   "language": "python",
   "name": "python3"
  },
  "language_info": {
   "codemirror_mode": {
    "name": "ipython",
    "version": 3
   },
   "file_extension": ".py",
   "mimetype": "text/x-python",
   "name": "python",
   "nbconvert_exporter": "python",
   "pygments_lexer": "ipython3",
   "version": "3.6.2"
  }
 },
 "nbformat": 4,
 "nbformat_minor": 2
}
